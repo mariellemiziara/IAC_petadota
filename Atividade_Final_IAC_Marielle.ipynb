{
  "nbformat": 4,
  "nbformat_minor": 0,
  "metadata": {
    "colab": {
      "provenance": []
    },
    "kernelspec": {
      "name": "python3",
      "display_name": "Python 3"
    },
    "language_info": {
      "name": "python"
    }
  },
  "cells": [
    {
      "cell_type": "markdown",
      "source": [
        "#1. Configurando o Terraform no Google Cloud"
      ],
      "metadata": {
        "id": "0e4E2BWtc_g4"
      }
    },
    {
      "cell_type": "code",
      "execution_count": 86,
      "metadata": {
        "colab": {
          "base_uri": "https://localhost:8080/"
        },
        "id": "0fQ24k-Qc862",
        "outputId": "c949db78-ea4c-44d2-f33c-a5019b13d389"
      },
      "outputs": [
        {
          "output_type": "stream",
          "name": "stdout",
          "text": [
            "Reading package lists... Done\n",
            "Building dependency tree... Done\n",
            "Reading state information... Done\n",
            "unzip is already the newest version (6.0-26ubuntu3.2).\n",
            "wget is already the newest version (1.21.2-2ubuntu1.1).\n",
            "0 upgraded, 0 newly installed, 0 to remove and 23 not upgraded.\n",
            "--2025-02-27 16:26:53--  https://releases.hashicorp.com/terraform/1.0.11/terraform_1.0.11_linux_amd64.zip\n",
            "Resolving releases.hashicorp.com (releases.hashicorp.com)... 13.226.61.113, 13.226.61.88, 13.226.61.96, ...\n",
            "Connecting to releases.hashicorp.com (releases.hashicorp.com)|13.226.61.113|:443... connected.\n",
            "HTTP request sent, awaiting response... 200 OK\n",
            "Length: 18082446 (17M) [application/zip]\n",
            "Saving to: ‘terraform_1.0.11_linux_amd64.zip’\n",
            "\n",
            "terraform_1.0.11_li 100%[===================>]  17.24M  99.7MB/s    in 0.2s    \n",
            "\n",
            "2025-02-27 16:26:53 (99.7 MB/s) - ‘terraform_1.0.11_linux_amd64.zip’ saved [18082446/18082446]\n",
            "\n",
            "Archive:  terraform_1.0.11_linux_amd64.zip\n",
            "  inflating: terraform               \n",
            "Terraform v1.0.11\n",
            "on linux_amd64\n",
            "\n",
            "Your version of Terraform is out of date! The latest version\n",
            "is v1.11.0. You can update by downloading from https://www.terraform.io/downloads.html\n"
          ]
        }
      ],
      "source": [
        "!apt-get install -y wget unzip\n",
        "!wget https://releases.hashicorp.com/terraform/1.0.11/terraform_1.0.11_linux_amd64.zip\n",
        "!unzip terraform_1.0.11_linux_amd64.zip\n",
        "!mv terraform /usr/local/bin/\n",
        "!terraform --version"
      ]
    },
    {
      "cell_type": "code",
      "source": [
        "import json\n",
        "from google.colab import files\n",
        "uploaded = files.upload()"
      ],
      "metadata": {
        "colab": {
          "base_uri": "https://localhost:8080/",
          "height": 71
        },
        "id": "K3Wo1nBvdIjR",
        "outputId": "56d122f7-8793-44c4-c6cb-0c42c2297eff"
      },
      "execution_count": 87,
      "outputs": [
        {
          "output_type": "display_data",
          "data": {
            "text/plain": [
              "<IPython.core.display.HTML object>"
            ],
            "text/html": [
              "\n",
              "     <input type=\"file\" id=\"files-e93c0417-4c3d-4127-8de4-c9cbb0b6b64d\" name=\"files[]\" multiple disabled\n",
              "        style=\"border:none\" />\n",
              "     <output id=\"result-e93c0417-4c3d-4127-8de4-c9cbb0b6b64d\">\n",
              "      Upload widget is only available when the cell has been executed in the\n",
              "      current browser session. Please rerun this cell to enable.\n",
              "      </output>\n",
              "      <script>// Copyright 2017 Google LLC\n",
              "//\n",
              "// Licensed under the Apache License, Version 2.0 (the \"License\");\n",
              "// you may not use this file except in compliance with the License.\n",
              "// You may obtain a copy of the License at\n",
              "//\n",
              "//      http://www.apache.org/licenses/LICENSE-2.0\n",
              "//\n",
              "// Unless required by applicable law or agreed to in writing, software\n",
              "// distributed under the License is distributed on an \"AS IS\" BASIS,\n",
              "// WITHOUT WARRANTIES OR CONDITIONS OF ANY KIND, either express or implied.\n",
              "// See the License for the specific language governing permissions and\n",
              "// limitations under the License.\n",
              "\n",
              "/**\n",
              " * @fileoverview Helpers for google.colab Python module.\n",
              " */\n",
              "(function(scope) {\n",
              "function span(text, styleAttributes = {}) {\n",
              "  const element = document.createElement('span');\n",
              "  element.textContent = text;\n",
              "  for (const key of Object.keys(styleAttributes)) {\n",
              "    element.style[key] = styleAttributes[key];\n",
              "  }\n",
              "  return element;\n",
              "}\n",
              "\n",
              "// Max number of bytes which will be uploaded at a time.\n",
              "const MAX_PAYLOAD_SIZE = 100 * 1024;\n",
              "\n",
              "function _uploadFiles(inputId, outputId) {\n",
              "  const steps = uploadFilesStep(inputId, outputId);\n",
              "  const outputElement = document.getElementById(outputId);\n",
              "  // Cache steps on the outputElement to make it available for the next call\n",
              "  // to uploadFilesContinue from Python.\n",
              "  outputElement.steps = steps;\n",
              "\n",
              "  return _uploadFilesContinue(outputId);\n",
              "}\n",
              "\n",
              "// This is roughly an async generator (not supported in the browser yet),\n",
              "// where there are multiple asynchronous steps and the Python side is going\n",
              "// to poll for completion of each step.\n",
              "// This uses a Promise to block the python side on completion of each step,\n",
              "// then passes the result of the previous step as the input to the next step.\n",
              "function _uploadFilesContinue(outputId) {\n",
              "  const outputElement = document.getElementById(outputId);\n",
              "  const steps = outputElement.steps;\n",
              "\n",
              "  const next = steps.next(outputElement.lastPromiseValue);\n",
              "  return Promise.resolve(next.value.promise).then((value) => {\n",
              "    // Cache the last promise value to make it available to the next\n",
              "    // step of the generator.\n",
              "    outputElement.lastPromiseValue = value;\n",
              "    return next.value.response;\n",
              "  });\n",
              "}\n",
              "\n",
              "/**\n",
              " * Generator function which is called between each async step of the upload\n",
              " * process.\n",
              " * @param {string} inputId Element ID of the input file picker element.\n",
              " * @param {string} outputId Element ID of the output display.\n",
              " * @return {!Iterable<!Object>} Iterable of next steps.\n",
              " */\n",
              "function* uploadFilesStep(inputId, outputId) {\n",
              "  const inputElement = document.getElementById(inputId);\n",
              "  inputElement.disabled = false;\n",
              "\n",
              "  const outputElement = document.getElementById(outputId);\n",
              "  outputElement.innerHTML = '';\n",
              "\n",
              "  const pickedPromise = new Promise((resolve) => {\n",
              "    inputElement.addEventListener('change', (e) => {\n",
              "      resolve(e.target.files);\n",
              "    });\n",
              "  });\n",
              "\n",
              "  const cancel = document.createElement('button');\n",
              "  inputElement.parentElement.appendChild(cancel);\n",
              "  cancel.textContent = 'Cancel upload';\n",
              "  const cancelPromise = new Promise((resolve) => {\n",
              "    cancel.onclick = () => {\n",
              "      resolve(null);\n",
              "    };\n",
              "  });\n",
              "\n",
              "  // Wait for the user to pick the files.\n",
              "  const files = yield {\n",
              "    promise: Promise.race([pickedPromise, cancelPromise]),\n",
              "    response: {\n",
              "      action: 'starting',\n",
              "    }\n",
              "  };\n",
              "\n",
              "  cancel.remove();\n",
              "\n",
              "  // Disable the input element since further picks are not allowed.\n",
              "  inputElement.disabled = true;\n",
              "\n",
              "  if (!files) {\n",
              "    return {\n",
              "      response: {\n",
              "        action: 'complete',\n",
              "      }\n",
              "    };\n",
              "  }\n",
              "\n",
              "  for (const file of files) {\n",
              "    const li = document.createElement('li');\n",
              "    li.append(span(file.name, {fontWeight: 'bold'}));\n",
              "    li.append(span(\n",
              "        `(${file.type || 'n/a'}) - ${file.size} bytes, ` +\n",
              "        `last modified: ${\n",
              "            file.lastModifiedDate ? file.lastModifiedDate.toLocaleDateString() :\n",
              "                                    'n/a'} - `));\n",
              "    const percent = span('0% done');\n",
              "    li.appendChild(percent);\n",
              "\n",
              "    outputElement.appendChild(li);\n",
              "\n",
              "    const fileDataPromise = new Promise((resolve) => {\n",
              "      const reader = new FileReader();\n",
              "      reader.onload = (e) => {\n",
              "        resolve(e.target.result);\n",
              "      };\n",
              "      reader.readAsArrayBuffer(file);\n",
              "    });\n",
              "    // Wait for the data to be ready.\n",
              "    let fileData = yield {\n",
              "      promise: fileDataPromise,\n",
              "      response: {\n",
              "        action: 'continue',\n",
              "      }\n",
              "    };\n",
              "\n",
              "    // Use a chunked sending to avoid message size limits. See b/62115660.\n",
              "    let position = 0;\n",
              "    do {\n",
              "      const length = Math.min(fileData.byteLength - position, MAX_PAYLOAD_SIZE);\n",
              "      const chunk = new Uint8Array(fileData, position, length);\n",
              "      position += length;\n",
              "\n",
              "      const base64 = btoa(String.fromCharCode.apply(null, chunk));\n",
              "      yield {\n",
              "        response: {\n",
              "          action: 'append',\n",
              "          file: file.name,\n",
              "          data: base64,\n",
              "        },\n",
              "      };\n",
              "\n",
              "      let percentDone = fileData.byteLength === 0 ?\n",
              "          100 :\n",
              "          Math.round((position / fileData.byteLength) * 100);\n",
              "      percent.textContent = `${percentDone}% done`;\n",
              "\n",
              "    } while (position < fileData.byteLength);\n",
              "  }\n",
              "\n",
              "  // All done.\n",
              "  yield {\n",
              "    response: {\n",
              "      action: 'complete',\n",
              "    }\n",
              "  };\n",
              "}\n",
              "\n",
              "scope.google = scope.google || {};\n",
              "scope.google.colab = scope.google.colab || {};\n",
              "scope.google.colab._files = {\n",
              "  _uploadFiles,\n",
              "  _uploadFilesContinue,\n",
              "};\n",
              "})(self);\n",
              "</script> "
            ]
          },
          "metadata": {}
        },
        {
          "output_type": "stream",
          "name": "stdout",
          "text": [
            "Saving crypto-arcade-443419-e3-245d36b57000.json to crypto-arcade-443419-e3-245d36b57000.json\n"
          ]
        }
      ]
    },
    {
      "cell_type": "code",
      "source": [
        "import os\n",
        "os.environ[\"GOOGLE_APPLICATION_CREDENTIALS\"] = \"crypto-arcade-443419-e3-245d36b57000.json\""
      ],
      "metadata": {
        "id": "BfS1jiQFdOPr"
      },
      "execution_count": 88,
      "outputs": []
    },
    {
      "cell_type": "code",
      "source": [
        "%%writefile main.tf\n",
        "terraform{\n",
        "  required_providers{\n",
        "    google = {\n",
        "      source = \"hashicorp/google\"\n",
        "      version = \"~> 5.0\"\n",
        "    }\n",
        "  }\n",
        "}\n",
        "\n",
        "provider \"google\"{\n",
        "  credentials = file(\"${path.module}/crypto-arcade-443419-e3-245d36b57000.json\")\n",
        "  project = \"289512202680\"\n",
        "  region = \"us-central1\"\n",
        "}\n",
        "\n",
        "resource \"google_storage_bucket\" \"petadota_bucket\"{\n",
        "  name = \"petadota\"\n",
        "  location = \"US\"\n",
        "  storage_class = \"STANDARD\"\n",
        "}"
      ],
      "metadata": {
        "colab": {
          "base_uri": "https://localhost:8080/"
        },
        "id": "oG2xODHVdT5Z",
        "outputId": "92d4de92-7487-4ec8-d66c-09f18b4528ca"
      },
      "execution_count": 89,
      "outputs": [
        {
          "output_type": "stream",
          "name": "stdout",
          "text": [
            "Writing main.tf\n"
          ]
        }
      ]
    },
    {
      "cell_type": "code",
      "source": [
        "!terraform init\n",
        "!terraform plan\n",
        "!terraform apply -auto-approve"
      ],
      "metadata": {
        "colab": {
          "base_uri": "https://localhost:8080/"
        },
        "id": "BGC5bdAGdWvD",
        "outputId": "7603ca31-0866-4d05-ed8f-616b31da60a3"
      },
      "execution_count": 90,
      "outputs": [
        {
          "output_type": "stream",
          "name": "stdout",
          "text": [
            "\n",
            "\u001b[0m\u001b[1mInitializing the backend...\u001b[0m\n",
            "\n",
            "\u001b[0m\u001b[1mInitializing provider plugins...\u001b[0m\n",
            "- Finding hashicorp/google versions matching \"~> 5.0\"...\n",
            "- Installing hashicorp/google v5.45.2...\n",
            "- Installed hashicorp/google v5.45.2 (signed by HashiCorp)\n",
            "\n",
            "Terraform has created a lock file \u001b[1m.terraform.lock.hcl\u001b[0m to record the provider\n",
            "selections it made above. Include this file in your version control repository\n",
            "so that Terraform can guarantee to make the same selections by default when\n",
            "you run \"terraform init\" in the future.\u001b[0m\n",
            "\n",
            "\u001b[0m\u001b[1m\u001b[32mTerraform has been successfully initialized!\u001b[0m\u001b[32m\u001b[0m\n",
            "\u001b[0m\u001b[32m\n",
            "You may now begin working with Terraform. Try running \"terraform plan\" to see\n",
            "any changes that are required for your infrastructure. All Terraform commands\n",
            "should now work.\n",
            "\n",
            "If you ever set or change modules or backend configuration for Terraform,\n",
            "rerun this command to reinitialize your working directory. If you forget, other\n",
            "commands will detect it and remind you to do so if necessary.\u001b[0m\n",
            "\n",
            "Terraform used the selected providers to generate the following execution plan. Resource actions are indicated with the following symbols:\n",
            "  \u001b[32m+\u001b[0m create\n",
            "\u001b[0m\n",
            "Terraform will perform the following actions:\n",
            "\n",
            "\u001b[1m  # google_storage_bucket.petadota_bucket\u001b[0m will be created\u001b[0m\u001b[0m\n",
            "\u001b[0m  \u001b[32m+\u001b[0m\u001b[0m resource \"google_storage_bucket\" \"petadota_bucket\" {\n",
            "      \u001b[32m+\u001b[0m \u001b[0m\u001b[1m\u001b[0meffective_labels\u001b[0m\u001b[0m            = (known after apply)\n",
            "      \u001b[32m+\u001b[0m \u001b[0m\u001b[1m\u001b[0mforce_destroy\u001b[0m\u001b[0m               = false\n",
            "      \u001b[32m+\u001b[0m \u001b[0m\u001b[1m\u001b[0mid\u001b[0m\u001b[0m                          = (known after apply)\n",
            "      \u001b[32m+\u001b[0m \u001b[0m\u001b[1m\u001b[0mlocation\u001b[0m\u001b[0m                    = \"US\"\n",
            "      \u001b[32m+\u001b[0m \u001b[0m\u001b[1m\u001b[0mname\u001b[0m\u001b[0m                        = \"petadota\"\n",
            "      \u001b[32m+\u001b[0m \u001b[0m\u001b[1m\u001b[0mproject\u001b[0m\u001b[0m                     = (known after apply)\n",
            "      \u001b[32m+\u001b[0m \u001b[0m\u001b[1m\u001b[0mproject_number\u001b[0m\u001b[0m              = (known after apply)\n",
            "      \u001b[32m+\u001b[0m \u001b[0m\u001b[1m\u001b[0mpublic_access_prevention\u001b[0m\u001b[0m    = (known after apply)\n",
            "      \u001b[32m+\u001b[0m \u001b[0m\u001b[1m\u001b[0mrpo\u001b[0m\u001b[0m                         = (known after apply)\n",
            "      \u001b[32m+\u001b[0m \u001b[0m\u001b[1m\u001b[0mself_link\u001b[0m\u001b[0m                   = (known after apply)\n",
            "      \u001b[32m+\u001b[0m \u001b[0m\u001b[1m\u001b[0mstorage_class\u001b[0m\u001b[0m               = \"STANDARD\"\n",
            "      \u001b[32m+\u001b[0m \u001b[0m\u001b[1m\u001b[0mterraform_labels\u001b[0m\u001b[0m            = (known after apply)\n",
            "      \u001b[32m+\u001b[0m \u001b[0m\u001b[1m\u001b[0muniform_bucket_level_access\u001b[0m\u001b[0m = (known after apply)\n",
            "      \u001b[32m+\u001b[0m \u001b[0m\u001b[1m\u001b[0murl\u001b[0m\u001b[0m                         = (known after apply)\n",
            "\n",
            "      \u001b[32m+\u001b[0m \u001b[0msoft_delete_policy {\n",
            "          \u001b[32m+\u001b[0m \u001b[0m\u001b[1m\u001b[0meffective_time\u001b[0m\u001b[0m             = (known after apply)\n",
            "          \u001b[32m+\u001b[0m \u001b[0m\u001b[1m\u001b[0mretention_duration_seconds\u001b[0m\u001b[0m = (known after apply)\n",
            "        }\n",
            "\n",
            "      \u001b[32m+\u001b[0m \u001b[0mversioning {\n",
            "          \u001b[32m+\u001b[0m \u001b[0m\u001b[1m\u001b[0menabled\u001b[0m\u001b[0m = (known after apply)\n",
            "        }\n",
            "\n",
            "      \u001b[32m+\u001b[0m \u001b[0mwebsite {\n",
            "          \u001b[32m+\u001b[0m \u001b[0m\u001b[1m\u001b[0mmain_page_suffix\u001b[0m\u001b[0m = (known after apply)\n",
            "          \u001b[32m+\u001b[0m \u001b[0m\u001b[1m\u001b[0mnot_found_page\u001b[0m\u001b[0m   = (known after apply)\n",
            "        }\n",
            "    }\n",
            "\n",
            "\u001b[0m\u001b[1mPlan:\u001b[0m 1 to add, 0 to change, 0 to destroy.\n",
            "\u001b[0m\n",
            "\n",
            "\n",
            "Note: You didn't use the -out option to save this plan, so Terraform can't guarantee to take exactly these actions if you run \"terraform apply\" now.\n",
            "\n",
            "Terraform used the selected providers to generate the following execution plan. Resource actions are indicated with the following symbols:\n",
            "  \u001b[32m+\u001b[0m create\n",
            "\u001b[0m\n",
            "Terraform will perform the following actions:\n",
            "\n",
            "\u001b[1m  # google_storage_bucket.petadota_bucket\u001b[0m will be created\u001b[0m\u001b[0m\n",
            "\u001b[0m  \u001b[32m+\u001b[0m\u001b[0m resource \"google_storage_bucket\" \"petadota_bucket\" {\n",
            "      \u001b[32m+\u001b[0m \u001b[0m\u001b[1m\u001b[0meffective_labels\u001b[0m\u001b[0m            = (known after apply)\n",
            "      \u001b[32m+\u001b[0m \u001b[0m\u001b[1m\u001b[0mforce_destroy\u001b[0m\u001b[0m               = false\n",
            "      \u001b[32m+\u001b[0m \u001b[0m\u001b[1m\u001b[0mid\u001b[0m\u001b[0m                          = (known after apply)\n",
            "      \u001b[32m+\u001b[0m \u001b[0m\u001b[1m\u001b[0mlocation\u001b[0m\u001b[0m                    = \"US\"\n",
            "      \u001b[32m+\u001b[0m \u001b[0m\u001b[1m\u001b[0mname\u001b[0m\u001b[0m                        = \"petadota\"\n",
            "      \u001b[32m+\u001b[0m \u001b[0m\u001b[1m\u001b[0mproject\u001b[0m\u001b[0m                     = (known after apply)\n",
            "      \u001b[32m+\u001b[0m \u001b[0m\u001b[1m\u001b[0mproject_number\u001b[0m\u001b[0m              = (known after apply)\n",
            "      \u001b[32m+\u001b[0m \u001b[0m\u001b[1m\u001b[0mpublic_access_prevention\u001b[0m\u001b[0m    = (known after apply)\n",
            "      \u001b[32m+\u001b[0m \u001b[0m\u001b[1m\u001b[0mrpo\u001b[0m\u001b[0m                         = (known after apply)\n",
            "      \u001b[32m+\u001b[0m \u001b[0m\u001b[1m\u001b[0mself_link\u001b[0m\u001b[0m                   = (known after apply)\n",
            "      \u001b[32m+\u001b[0m \u001b[0m\u001b[1m\u001b[0mstorage_class\u001b[0m\u001b[0m               = \"STANDARD\"\n",
            "      \u001b[32m+\u001b[0m \u001b[0m\u001b[1m\u001b[0mterraform_labels\u001b[0m\u001b[0m            = (known after apply)\n",
            "      \u001b[32m+\u001b[0m \u001b[0m\u001b[1m\u001b[0muniform_bucket_level_access\u001b[0m\u001b[0m = (known after apply)\n",
            "      \u001b[32m+\u001b[0m \u001b[0m\u001b[1m\u001b[0murl\u001b[0m\u001b[0m                         = (known after apply)\n",
            "\n",
            "      \u001b[32m+\u001b[0m \u001b[0msoft_delete_policy {\n",
            "          \u001b[32m+\u001b[0m \u001b[0m\u001b[1m\u001b[0meffective_time\u001b[0m\u001b[0m             = (known after apply)\n",
            "          \u001b[32m+\u001b[0m \u001b[0m\u001b[1m\u001b[0mretention_duration_seconds\u001b[0m\u001b[0m = (known after apply)\n",
            "        }\n",
            "\n",
            "      \u001b[32m+\u001b[0m \u001b[0mversioning {\n",
            "          \u001b[32m+\u001b[0m \u001b[0m\u001b[1m\u001b[0menabled\u001b[0m\u001b[0m = (known after apply)\n",
            "        }\n",
            "\n",
            "      \u001b[32m+\u001b[0m \u001b[0mwebsite {\n",
            "          \u001b[32m+\u001b[0m \u001b[0m\u001b[1m\u001b[0mmain_page_suffix\u001b[0m\u001b[0m = (known after apply)\n",
            "          \u001b[32m+\u001b[0m \u001b[0m\u001b[1m\u001b[0mnot_found_page\u001b[0m\u001b[0m   = (known after apply)\n",
            "        }\n",
            "    }\n",
            "\n",
            "\u001b[0m\u001b[1mPlan:\u001b[0m 1 to add, 0 to change, 0 to destroy.\n",
            "\u001b[0m\u001b[0m\u001b[1mgoogle_storage_bucket.petadota_bucket: Creating...\u001b[0m\u001b[0m\n",
            "\u001b[31m╷\u001b[0m\u001b[0m\n",
            "\u001b[31m│\u001b[0m \u001b[0m\u001b[1m\u001b[31mError: \u001b[0m\u001b[0m\u001b[1mgoogleapi: Error 409: Your previous request to create the named bucket succeeded and you already own it., conflict\u001b[0m\n",
            "\u001b[31m│\u001b[0m \u001b[0m\n",
            "\u001b[31m│\u001b[0m \u001b[0m\u001b[0m  with google_storage_bucket.petadota_bucket,\n",
            "\u001b[31m│\u001b[0m \u001b[0m  on main.tf line 16, in resource \"google_storage_bucket\" \"petadota_bucket\":\n",
            "\u001b[31m│\u001b[0m \u001b[0m  16: resource \"google_storage_bucket\" \"petadota_bucket\"\u001b[4m{\u001b[0m\u001b[0m\n",
            "\u001b[31m│\u001b[0m \u001b[0m\n",
            "\u001b[31m╵\u001b[0m\u001b[0m\n"
          ]
        }
      ]
    },
    {
      "cell_type": "markdown",
      "source": [
        "#Atividade 2"
      ],
      "metadata": {
        "id": "8egA8gNLdwVr"
      }
    },
    {
      "cell_type": "code",
      "source": [
        "%%writefile vm.tf\n",
        "resource \"google_compute_instance\" \"vm_petadota\" {\n",
        "  name         = \"vm-petadotac\"\n",
        "  machine_type = \"e2-medium\"\n",
        "  zone         = \"us-central1-a\"\n",
        "\n",
        "  boot_disk {\n",
        "    initialize_params {\n",
        "      image = \"debian-cloud/debian-11\"\n",
        "    }\n",
        "  }\n",
        "\n",
        "  network_interface {\n",
        "    network = \"default\"\n",
        "    access_config {}\n",
        "  }\n",
        "}"
      ],
      "metadata": {
        "colab": {
          "base_uri": "https://localhost:8080/"
        },
        "id": "EHHfumRudy7f",
        "outputId": "c35082e5-e7d0-41c9-8d97-f9f44ddd54df"
      },
      "execution_count": 91,
      "outputs": [
        {
          "output_type": "stream",
          "name": "stdout",
          "text": [
            "Writing vm.tf\n"
          ]
        }
      ]
    },
    {
      "cell_type": "code",
      "source": [
        "!terraform init\n",
        "!terraform apply -auto-approve"
      ],
      "metadata": {
        "colab": {
          "base_uri": "https://localhost:8080/"
        },
        "id": "wnsFrlh6d3Ej",
        "outputId": "b641668b-0b69-4a0a-ab41-d2a3d67713e8"
      },
      "execution_count": 92,
      "outputs": [
        {
          "output_type": "stream",
          "name": "stdout",
          "text": [
            "\n",
            "\u001b[0m\u001b[1mInitializing the backend...\u001b[0m\n",
            "\n",
            "\u001b[0m\u001b[1mInitializing provider plugins...\u001b[0m\n",
            "- Reusing previous version of hashicorp/google from the dependency lock file\n",
            "- Using previously-installed hashicorp/google v5.45.2\n",
            "\n",
            "\u001b[0m\u001b[1m\u001b[32mTerraform has been successfully initialized!\u001b[0m\u001b[32m\u001b[0m\n",
            "\u001b[0m\u001b[32m\n",
            "You may now begin working with Terraform. Try running \"terraform plan\" to see\n",
            "any changes that are required for your infrastructure. All Terraform commands\n",
            "should now work.\n",
            "\n",
            "If you ever set or change modules or backend configuration for Terraform,\n",
            "rerun this command to reinitialize your working directory. If you forget, other\n",
            "commands will detect it and remind you to do so if necessary.\u001b[0m\n",
            "\n",
            "Terraform used the selected providers to generate the following execution plan. Resource actions are indicated with the following symbols:\n",
            "  \u001b[32m+\u001b[0m create\n",
            "\u001b[0m\n",
            "Terraform will perform the following actions:\n",
            "\n",
            "\u001b[1m  # google_compute_instance.vm_petadota\u001b[0m will be created\u001b[0m\u001b[0m\n",
            "\u001b[0m  \u001b[32m+\u001b[0m\u001b[0m resource \"google_compute_instance\" \"vm_petadota\" {\n",
            "      \u001b[32m+\u001b[0m \u001b[0m\u001b[1m\u001b[0mcan_ip_forward\u001b[0m\u001b[0m       = false\n",
            "      \u001b[32m+\u001b[0m \u001b[0m\u001b[1m\u001b[0mcpu_platform\u001b[0m\u001b[0m         = (known after apply)\n",
            "      \u001b[32m+\u001b[0m \u001b[0m\u001b[1m\u001b[0mcurrent_status\u001b[0m\u001b[0m       = (known after apply)\n",
            "      \u001b[32m+\u001b[0m \u001b[0m\u001b[1m\u001b[0mdeletion_protection\u001b[0m\u001b[0m  = false\n",
            "      \u001b[32m+\u001b[0m \u001b[0m\u001b[1m\u001b[0meffective_labels\u001b[0m\u001b[0m     = (known after apply)\n",
            "      \u001b[32m+\u001b[0m \u001b[0m\u001b[1m\u001b[0mguest_accelerator\u001b[0m\u001b[0m    = (known after apply)\n",
            "      \u001b[32m+\u001b[0m \u001b[0m\u001b[1m\u001b[0mid\u001b[0m\u001b[0m                   = (known after apply)\n",
            "      \u001b[32m+\u001b[0m \u001b[0m\u001b[1m\u001b[0minstance_id\u001b[0m\u001b[0m          = (known after apply)\n",
            "      \u001b[32m+\u001b[0m \u001b[0m\u001b[1m\u001b[0mlabel_fingerprint\u001b[0m\u001b[0m    = (known after apply)\n",
            "      \u001b[32m+\u001b[0m \u001b[0m\u001b[1m\u001b[0mmachine_type\u001b[0m\u001b[0m         = \"e2-medium\"\n",
            "      \u001b[32m+\u001b[0m \u001b[0m\u001b[1m\u001b[0mmetadata_fingerprint\u001b[0m\u001b[0m = (known after apply)\n",
            "      \u001b[32m+\u001b[0m \u001b[0m\u001b[1m\u001b[0mmin_cpu_platform\u001b[0m\u001b[0m     = (known after apply)\n",
            "      \u001b[32m+\u001b[0m \u001b[0m\u001b[1m\u001b[0mname\u001b[0m\u001b[0m                 = \"vm-petadotac\"\n",
            "      \u001b[32m+\u001b[0m \u001b[0m\u001b[1m\u001b[0mproject\u001b[0m\u001b[0m              = \"289512202680\"\n",
            "      \u001b[32m+\u001b[0m \u001b[0m\u001b[1m\u001b[0mself_link\u001b[0m\u001b[0m            = (known after apply)\n",
            "      \u001b[32m+\u001b[0m \u001b[0m\u001b[1m\u001b[0mtags_fingerprint\u001b[0m\u001b[0m     = (known after apply)\n",
            "      \u001b[32m+\u001b[0m \u001b[0m\u001b[1m\u001b[0mterraform_labels\u001b[0m\u001b[0m     = (known after apply)\n",
            "      \u001b[32m+\u001b[0m \u001b[0m\u001b[1m\u001b[0mzone\u001b[0m\u001b[0m                 = \"us-central1-a\"\n",
            "\n",
            "      \u001b[32m+\u001b[0m \u001b[0mboot_disk {\n",
            "          \u001b[32m+\u001b[0m \u001b[0m\u001b[1m\u001b[0mauto_delete\u001b[0m\u001b[0m                = true\n",
            "          \u001b[32m+\u001b[0m \u001b[0m\u001b[1m\u001b[0mdevice_name\u001b[0m\u001b[0m                = (known after apply)\n",
            "          \u001b[32m+\u001b[0m \u001b[0m\u001b[1m\u001b[0mdisk_encryption_key_sha256\u001b[0m\u001b[0m = (known after apply)\n",
            "          \u001b[32m+\u001b[0m \u001b[0m\u001b[1m\u001b[0mkms_key_self_link\u001b[0m\u001b[0m          = (known after apply)\n",
            "          \u001b[32m+\u001b[0m \u001b[0m\u001b[1m\u001b[0mmode\u001b[0m\u001b[0m                       = \"READ_WRITE\"\n",
            "          \u001b[32m+\u001b[0m \u001b[0m\u001b[1m\u001b[0msource\u001b[0m\u001b[0m                     = (known after apply)\n",
            "\n",
            "          \u001b[32m+\u001b[0m \u001b[0minitialize_params {\n",
            "              \u001b[32m+\u001b[0m \u001b[0m\u001b[1m\u001b[0mimage\u001b[0m\u001b[0m                  = \"debian-cloud/debian-11\"\n",
            "              \u001b[32m+\u001b[0m \u001b[0m\u001b[1m\u001b[0mlabels\u001b[0m\u001b[0m                 = (known after apply)\n",
            "              \u001b[32m+\u001b[0m \u001b[0m\u001b[1m\u001b[0mprovisioned_iops\u001b[0m\u001b[0m       = (known after apply)\n",
            "              \u001b[32m+\u001b[0m \u001b[0m\u001b[1m\u001b[0mprovisioned_throughput\u001b[0m\u001b[0m = (known after apply)\n",
            "              \u001b[32m+\u001b[0m \u001b[0m\u001b[1m\u001b[0msize\u001b[0m\u001b[0m                   = (known after apply)\n",
            "              \u001b[32m+\u001b[0m \u001b[0m\u001b[1m\u001b[0mtype\u001b[0m\u001b[0m                   = (known after apply)\n",
            "            }\n",
            "        }\n",
            "\n",
            "      \u001b[32m+\u001b[0m \u001b[0mconfidential_instance_config {\n",
            "          \u001b[32m+\u001b[0m \u001b[0m\u001b[1m\u001b[0mconfidential_instance_type\u001b[0m\u001b[0m  = (known after apply)\n",
            "          \u001b[32m+\u001b[0m \u001b[0m\u001b[1m\u001b[0menable_confidential_compute\u001b[0m\u001b[0m = (known after apply)\n",
            "        }\n",
            "\n",
            "      \u001b[32m+\u001b[0m \u001b[0mnetwork_interface {\n",
            "          \u001b[32m+\u001b[0m \u001b[0m\u001b[1m\u001b[0minternal_ipv6_prefix_length\u001b[0m\u001b[0m = (known after apply)\n",
            "          \u001b[32m+\u001b[0m \u001b[0m\u001b[1m\u001b[0mipv6_access_type\u001b[0m\u001b[0m            = (known after apply)\n",
            "          \u001b[32m+\u001b[0m \u001b[0m\u001b[1m\u001b[0mipv6_address\u001b[0m\u001b[0m                = (known after apply)\n",
            "          \u001b[32m+\u001b[0m \u001b[0m\u001b[1m\u001b[0mname\u001b[0m\u001b[0m                        = (known after apply)\n",
            "          \u001b[32m+\u001b[0m \u001b[0m\u001b[1m\u001b[0mnetwork\u001b[0m\u001b[0m                     = \"default\"\n",
            "          \u001b[32m+\u001b[0m \u001b[0m\u001b[1m\u001b[0mnetwork_ip\u001b[0m\u001b[0m                  = (known after apply)\n",
            "          \u001b[32m+\u001b[0m \u001b[0m\u001b[1m\u001b[0mstack_type\u001b[0m\u001b[0m                  = (known after apply)\n",
            "          \u001b[32m+\u001b[0m \u001b[0m\u001b[1m\u001b[0msubnetwork\u001b[0m\u001b[0m                  = (known after apply)\n",
            "          \u001b[32m+\u001b[0m \u001b[0m\u001b[1m\u001b[0msubnetwork_project\u001b[0m\u001b[0m          = (known after apply)\n",
            "\n",
            "          \u001b[32m+\u001b[0m \u001b[0maccess_config {\n",
            "              \u001b[32m+\u001b[0m \u001b[0m\u001b[1m\u001b[0mnat_ip\u001b[0m\u001b[0m       = (known after apply)\n",
            "              \u001b[32m+\u001b[0m \u001b[0m\u001b[1m\u001b[0mnetwork_tier\u001b[0m\u001b[0m = (known after apply)\n",
            "            }\n",
            "        }\n",
            "\n",
            "      \u001b[32m+\u001b[0m \u001b[0mreservation_affinity {\n",
            "          \u001b[32m+\u001b[0m \u001b[0m\u001b[1m\u001b[0mtype\u001b[0m\u001b[0m = (known after apply)\n",
            "\n",
            "          \u001b[32m+\u001b[0m \u001b[0mspecific_reservation {\n",
            "              \u001b[32m+\u001b[0m \u001b[0m\u001b[1m\u001b[0mkey\u001b[0m\u001b[0m    = (known after apply)\n",
            "              \u001b[32m+\u001b[0m \u001b[0m\u001b[1m\u001b[0mvalues\u001b[0m\u001b[0m = (known after apply)\n",
            "            }\n",
            "        }\n",
            "\n",
            "      \u001b[32m+\u001b[0m \u001b[0mscheduling {\n",
            "          \u001b[32m+\u001b[0m \u001b[0m\u001b[1m\u001b[0mautomatic_restart\u001b[0m\u001b[0m           = (known after apply)\n",
            "          \u001b[32m+\u001b[0m \u001b[0m\u001b[1m\u001b[0minstance_termination_action\u001b[0m\u001b[0m = (known after apply)\n",
            "          \u001b[32m+\u001b[0m \u001b[0m\u001b[1m\u001b[0mmin_node_cpus\u001b[0m\u001b[0m               = (known after apply)\n",
            "          \u001b[32m+\u001b[0m \u001b[0m\u001b[1m\u001b[0mon_host_maintenance\u001b[0m\u001b[0m         = (known after apply)\n",
            "          \u001b[32m+\u001b[0m \u001b[0m\u001b[1m\u001b[0mpreemptible\u001b[0m\u001b[0m                 = (known after apply)\n",
            "          \u001b[32m+\u001b[0m \u001b[0m\u001b[1m\u001b[0mprovisioning_model\u001b[0m\u001b[0m          = (known after apply)\n",
            "\n",
            "          \u001b[32m+\u001b[0m \u001b[0mlocal_ssd_recovery_timeout {\n",
            "              \u001b[32m+\u001b[0m \u001b[0m\u001b[1m\u001b[0mnanos\u001b[0m\u001b[0m   = (known after apply)\n",
            "              \u001b[32m+\u001b[0m \u001b[0m\u001b[1m\u001b[0mseconds\u001b[0m\u001b[0m = (known after apply)\n",
            "            }\n",
            "\n",
            "          \u001b[32m+\u001b[0m \u001b[0mmax_run_duration {\n",
            "              \u001b[32m+\u001b[0m \u001b[0m\u001b[1m\u001b[0mnanos\u001b[0m\u001b[0m   = (known after apply)\n",
            "              \u001b[32m+\u001b[0m \u001b[0m\u001b[1m\u001b[0mseconds\u001b[0m\u001b[0m = (known after apply)\n",
            "            }\n",
            "\n",
            "          \u001b[32m+\u001b[0m \u001b[0mnode_affinities {\n",
            "              \u001b[32m+\u001b[0m \u001b[0m\u001b[1m\u001b[0mkey\u001b[0m\u001b[0m      = (known after apply)\n",
            "              \u001b[32m+\u001b[0m \u001b[0m\u001b[1m\u001b[0moperator\u001b[0m\u001b[0m = (known after apply)\n",
            "              \u001b[32m+\u001b[0m \u001b[0m\u001b[1m\u001b[0mvalues\u001b[0m\u001b[0m   = (known after apply)\n",
            "            }\n",
            "\n",
            "          \u001b[32m+\u001b[0m \u001b[0mon_instance_stop_action {\n",
            "              \u001b[32m+\u001b[0m \u001b[0m\u001b[1m\u001b[0mdiscard_local_ssd\u001b[0m\u001b[0m = (known after apply)\n",
            "            }\n",
            "        }\n",
            "    }\n",
            "\n",
            "\u001b[1m  # google_storage_bucket.petadota_bucket\u001b[0m will be created\u001b[0m\u001b[0m\n",
            "\u001b[0m  \u001b[32m+\u001b[0m\u001b[0m resource \"google_storage_bucket\" \"petadota_bucket\" {\n",
            "      \u001b[32m+\u001b[0m \u001b[0m\u001b[1m\u001b[0meffective_labels\u001b[0m\u001b[0m            = (known after apply)\n",
            "      \u001b[32m+\u001b[0m \u001b[0m\u001b[1m\u001b[0mforce_destroy\u001b[0m\u001b[0m               = false\n",
            "      \u001b[32m+\u001b[0m \u001b[0m\u001b[1m\u001b[0mid\u001b[0m\u001b[0m                          = (known after apply)\n",
            "      \u001b[32m+\u001b[0m \u001b[0m\u001b[1m\u001b[0mlocation\u001b[0m\u001b[0m                    = \"US\"\n",
            "      \u001b[32m+\u001b[0m \u001b[0m\u001b[1m\u001b[0mname\u001b[0m\u001b[0m                        = \"petadota\"\n",
            "      \u001b[32m+\u001b[0m \u001b[0m\u001b[1m\u001b[0mproject\u001b[0m\u001b[0m                     = (known after apply)\n",
            "      \u001b[32m+\u001b[0m \u001b[0m\u001b[1m\u001b[0mproject_number\u001b[0m\u001b[0m              = (known after apply)\n",
            "      \u001b[32m+\u001b[0m \u001b[0m\u001b[1m\u001b[0mpublic_access_prevention\u001b[0m\u001b[0m    = (known after apply)\n",
            "      \u001b[32m+\u001b[0m \u001b[0m\u001b[1m\u001b[0mrpo\u001b[0m\u001b[0m                         = (known after apply)\n",
            "      \u001b[32m+\u001b[0m \u001b[0m\u001b[1m\u001b[0mself_link\u001b[0m\u001b[0m                   = (known after apply)\n",
            "      \u001b[32m+\u001b[0m \u001b[0m\u001b[1m\u001b[0mstorage_class\u001b[0m\u001b[0m               = \"STANDARD\"\n",
            "      \u001b[32m+\u001b[0m \u001b[0m\u001b[1m\u001b[0mterraform_labels\u001b[0m\u001b[0m            = (known after apply)\n",
            "      \u001b[32m+\u001b[0m \u001b[0m\u001b[1m\u001b[0muniform_bucket_level_access\u001b[0m\u001b[0m = (known after apply)\n",
            "      \u001b[32m+\u001b[0m \u001b[0m\u001b[1m\u001b[0murl\u001b[0m\u001b[0m                         = (known after apply)\n",
            "\n",
            "      \u001b[32m+\u001b[0m \u001b[0msoft_delete_policy {\n",
            "          \u001b[32m+\u001b[0m \u001b[0m\u001b[1m\u001b[0meffective_time\u001b[0m\u001b[0m             = (known after apply)\n",
            "          \u001b[32m+\u001b[0m \u001b[0m\u001b[1m\u001b[0mretention_duration_seconds\u001b[0m\u001b[0m = (known after apply)\n",
            "        }\n",
            "\n",
            "      \u001b[32m+\u001b[0m \u001b[0mversioning {\n",
            "          \u001b[32m+\u001b[0m \u001b[0m\u001b[1m\u001b[0menabled\u001b[0m\u001b[0m = (known after apply)\n",
            "        }\n",
            "\n",
            "      \u001b[32m+\u001b[0m \u001b[0mwebsite {\n",
            "          \u001b[32m+\u001b[0m \u001b[0m\u001b[1m\u001b[0mmain_page_suffix\u001b[0m\u001b[0m = (known after apply)\n",
            "          \u001b[32m+\u001b[0m \u001b[0m\u001b[1m\u001b[0mnot_found_page\u001b[0m\u001b[0m   = (known after apply)\n",
            "        }\n",
            "    }\n",
            "\n",
            "\u001b[0m\u001b[1mPlan:\u001b[0m 2 to add, 0 to change, 0 to destroy.\n",
            "\u001b[0m\u001b[0m\u001b[1mgoogle_storage_bucket.petadota_bucket: Creating...\u001b[0m\u001b[0m\n",
            "\u001b[0m\u001b[1mgoogle_compute_instance.vm_petadota: Creating...\u001b[0m\u001b[0m\n",
            "\u001b[31m╷\u001b[0m\u001b[0m\n",
            "\u001b[31m│\u001b[0m \u001b[0m\u001b[1m\u001b[31mError: \u001b[0m\u001b[0m\u001b[1mgoogleapi: Error 409: Your previous request to create the named bucket succeeded and you already own it., conflict\u001b[0m\n",
            "\u001b[31m│\u001b[0m \u001b[0m\n",
            "\u001b[31m│\u001b[0m \u001b[0m\u001b[0m  with google_storage_bucket.petadota_bucket,\n",
            "\u001b[31m│\u001b[0m \u001b[0m  on main.tf line 16, in resource \"google_storage_bucket\" \"petadota_bucket\":\n",
            "\u001b[31m│\u001b[0m \u001b[0m  16: resource \"google_storage_bucket\" \"petadota_bucket\"\u001b[4m{\u001b[0m\u001b[0m\n",
            "\u001b[31m│\u001b[0m \u001b[0m\n",
            "\u001b[31m╵\u001b[0m\u001b[0m\n",
            "\u001b[31m╷\u001b[0m\u001b[0m\n",
            "\u001b[31m│\u001b[0m \u001b[0m\u001b[1m\u001b[31mError: \u001b[0m\u001b[0m\u001b[1mError creating instance: googleapi: Error 409: The resource 'projects/crypto-arcade-443419-e3/zones/us-central1-a/instances/vm-petadotac' already exists, alreadyExists\u001b[0m\n",
            "\u001b[31m│\u001b[0m \u001b[0m\n",
            "\u001b[31m│\u001b[0m \u001b[0m\u001b[0m  with google_compute_instance.vm_petadota,\n",
            "\u001b[31m│\u001b[0m \u001b[0m  on vm.tf line 1, in resource \"google_compute_instance\" \"vm_petadota\":\n",
            "\u001b[31m│\u001b[0m \u001b[0m   1: resource \"google_compute_instance\" \"vm_petadota\" \u001b[4m{\u001b[0m\u001b[0m\n",
            "\u001b[31m│\u001b[0m \u001b[0m\n",
            "\u001b[31m╵\u001b[0m\u001b[0m\n"
          ]
        }
      ]
    },
    {
      "cell_type": "markdown",
      "source": [
        "#Atividade 3"
      ],
      "metadata": {
        "id": "kmh0eEEKfjW-"
      }
    },
    {
      "cell_type": "code",
      "source": [
        "!apt-get install -y ansible\n",
        "!ansible --version"
      ],
      "metadata": {
        "colab": {
          "base_uri": "https://localhost:8080/"
        },
        "id": "pykL6xZJfUwZ",
        "outputId": "0beb7ac6-7755-4be4-b04d-c3fd151fa2a3"
      },
      "execution_count": 93,
      "outputs": [
        {
          "output_type": "stream",
          "name": "stdout",
          "text": [
            "Reading package lists... Done\n",
            "Building dependency tree... Done\n",
            "Reading state information... Done\n",
            "The following additional packages will be installed:\n",
            "  ieee-data netbase python-babel-localedata python3-argcomplete python3-babel python3-certifi\n",
            "  python3-chardet python3-dnspython python3-idna python3-jinja2 python3-jmespath python3-kerberos\n",
            "  python3-libcloud python3-lockfile python3-markupsafe python3-netaddr python3-ntlm-auth\n",
            "  python3-packaging python3-pycryptodome python3-requests python3-requests-kerberos\n",
            "  python3-requests-ntlm python3-requests-toolbelt python3-selinux python3-simplejson python3-tz\n",
            "  python3-urllib3 python3-winrm python3-xmltodict python3-yaml\n",
            "Suggested packages:\n",
            "  cowsay sshpass python3-sniffio python3-trio python-jinja2-doc python-lockfile-doc ipython3\n",
            "  python-netaddr-docs python3-openssl python3-socks python-requests-doc\n",
            "The following NEW packages will be installed:\n",
            "  ansible ieee-data netbase python-babel-localedata python3-argcomplete python3-babel\n",
            "  python3-certifi python3-chardet python3-dnspython python3-idna python3-jinja2 python3-jmespath\n",
            "  python3-kerberos python3-libcloud python3-lockfile python3-markupsafe python3-netaddr\n",
            "  python3-ntlm-auth python3-packaging python3-pycryptodome python3-requests\n",
            "  python3-requests-kerberos python3-requests-ntlm python3-requests-toolbelt python3-selinux\n",
            "  python3-simplejson python3-tz python3-urllib3 python3-winrm python3-xmltodict python3-yaml\n",
            "0 upgraded, 31 newly installed, 0 to remove and 23 not upgraded.\n",
            "Need to get 28.7 MB of archives.\n",
            "After this operation, 274 MB of additional disk space will be used.\n",
            "Get:1 http://archive.ubuntu.com/ubuntu jammy/main amd64 netbase all 6.3 [12.9 kB]\n",
            "Get:2 http://archive.ubuntu.com/ubuntu jammy/main amd64 python3-yaml amd64 5.4.1-1ubuntu1 [129 kB]\n",
            "Get:3 http://archive.ubuntu.com/ubuntu jammy/main amd64 python-babel-localedata all 2.8.0+dfsg.1-7 [4,982 kB]\n",
            "Get:4 http://archive.ubuntu.com/ubuntu jammy-updates/main amd64 python3-tz all 2022.1-1ubuntu0.22.04.1 [30.7 kB]\n",
            "Get:5 http://archive.ubuntu.com/ubuntu jammy/main amd64 python3-babel all 2.8.0+dfsg.1-7 [85.1 kB]\n",
            "Get:6 http://archive.ubuntu.com/ubuntu jammy/main amd64 python3-markupsafe amd64 2.0.1-2build1 [12.7 kB]\n",
            "Get:7 http://archive.ubuntu.com/ubuntu jammy-updates/main amd64 python3-jinja2 all 3.0.3-1ubuntu0.3 [108 kB]\n",
            "Get:8 http://archive.ubuntu.com/ubuntu jammy/main amd64 python3-packaging all 21.3-1 [30.7 kB]\n",
            "Get:9 http://archive.ubuntu.com/ubuntu jammy-updates/main amd64 python3-pycryptodome amd64 3.11.0+dfsg1-3ubuntu0.1 [1,029 kB]\n",
            "Get:10 http://archive.ubuntu.com/ubuntu jammy/main amd64 python3-dnspython all 2.1.0-1ubuntu1 [123 kB]\n",
            "Get:11 http://archive.ubuntu.com/ubuntu jammy/main amd64 ieee-data all 20210605.1 [1,887 kB]\n",
            "Get:12 http://archive.ubuntu.com/ubuntu jammy/main amd64 python3-netaddr all 0.8.0-2 [309 kB]\n",
            "Get:13 http://archive.ubuntu.com/ubuntu jammy/universe amd64 ansible all 2.10.7+merged+base+2.10.8+dfsg-1 [17.5 MB]\n",
            "Get:14 http://archive.ubuntu.com/ubuntu jammy/universe amd64 python3-argcomplete all 1.8.1-1.5 [27.2 kB]\n",
            "Get:15 http://archive.ubuntu.com/ubuntu jammy/main amd64 python3-certifi all 2020.6.20-1 [150 kB]\n",
            "Get:16 http://archive.ubuntu.com/ubuntu jammy/main amd64 python3-chardet all 4.0.0-1 [98.0 kB]\n",
            "Get:17 http://archive.ubuntu.com/ubuntu jammy-updates/main amd64 python3-idna all 3.3-1ubuntu0.1 [52.1 kB]\n",
            "Get:18 http://archive.ubuntu.com/ubuntu jammy/main amd64 python3-jmespath all 0.10.0-1 [21.7 kB]\n",
            "Get:19 http://archive.ubuntu.com/ubuntu jammy/universe amd64 python3-kerberos amd64 1.1.14-3.1build5 [23.0 kB]\n",
            "Get:20 http://archive.ubuntu.com/ubuntu jammy/main amd64 python3-lockfile all 1:0.12.2-2.2 [14.6 kB]\n",
            "Get:21 http://archive.ubuntu.com/ubuntu jammy/main amd64 python3-simplejson amd64 3.17.6-1build1 [54.7 kB]\n",
            "Get:22 http://archive.ubuntu.com/ubuntu jammy-updates/main amd64 python3-urllib3 all 1.26.5-1~exp1ubuntu0.2 [98.3 kB]\n",
            "Get:23 http://archive.ubuntu.com/ubuntu jammy-updates/main amd64 python3-requests all 2.25.1+dfsg-2ubuntu0.1 [48.8 kB]\n",
            "Get:24 http://archive.ubuntu.com/ubuntu jammy/universe amd64 python3-libcloud all 3.2.0-2 [1,554 kB]\n",
            "Get:25 http://archive.ubuntu.com/ubuntu jammy/universe amd64 python3-ntlm-auth all 1.4.0-1 [20.4 kB]\n",
            "Get:26 http://archive.ubuntu.com/ubuntu jammy/universe amd64 python3-requests-kerberos all 0.12.0-2 [11.9 kB]\n",
            "Get:27 http://archive.ubuntu.com/ubuntu jammy/universe amd64 python3-requests-ntlm all 1.1.0-1.1 [6,160 B]\n",
            "Get:28 http://archive.ubuntu.com/ubuntu jammy/main amd64 python3-requests-toolbelt all 0.9.1-1 [38.0 kB]\n",
            "Get:29 http://archive.ubuntu.com/ubuntu jammy/universe amd64 python3-selinux amd64 3.3-1build2 [159 kB]\n",
            "Get:30 http://archive.ubuntu.com/ubuntu jammy/universe amd64 python3-xmltodict all 0.12.0-2 [12.6 kB]\n",
            "Get:31 http://archive.ubuntu.com/ubuntu jammy/universe amd64 python3-winrm all 0.3.0-2 [21.7 kB]\n",
            "Fetched 28.7 MB in 4s (6,969 kB/s)\n",
            "Extracting templates from packages: 100%\n",
            "Selecting previously unselected package netbase.\n",
            "(Reading database ... 124947 files and directories currently installed.)\n",
            "Preparing to unpack .../00-netbase_6.3_all.deb ...\n",
            "Unpacking netbase (6.3) ...\n",
            "Selecting previously unselected package python3-yaml.\n",
            "Preparing to unpack .../01-python3-yaml_5.4.1-1ubuntu1_amd64.deb ...\n",
            "Unpacking python3-yaml (5.4.1-1ubuntu1) ...\n",
            "Selecting previously unselected package python-babel-localedata.\n",
            "Preparing to unpack .../02-python-babel-localedata_2.8.0+dfsg.1-7_all.deb ...\n",
            "Unpacking python-babel-localedata (2.8.0+dfsg.1-7) ...\n",
            "Selecting previously unselected package python3-tz.\n",
            "Preparing to unpack .../03-python3-tz_2022.1-1ubuntu0.22.04.1_all.deb ...\n",
            "Unpacking python3-tz (2022.1-1ubuntu0.22.04.1) ...\n",
            "Selecting previously unselected package python3-babel.\n",
            "Preparing to unpack .../04-python3-babel_2.8.0+dfsg.1-7_all.deb ...\n",
            "Unpacking python3-babel (2.8.0+dfsg.1-7) ...\n",
            "Selecting previously unselected package python3-markupsafe.\n",
            "Preparing to unpack .../05-python3-markupsafe_2.0.1-2build1_amd64.deb ...\n",
            "Unpacking python3-markupsafe (2.0.1-2build1) ...\n",
            "Selecting previously unselected package python3-jinja2.\n",
            "Preparing to unpack .../06-python3-jinja2_3.0.3-1ubuntu0.3_all.deb ...\n",
            "Unpacking python3-jinja2 (3.0.3-1ubuntu0.3) ...\n",
            "Selecting previously unselected package python3-packaging.\n",
            "Preparing to unpack .../07-python3-packaging_21.3-1_all.deb ...\n",
            "Unpacking python3-packaging (21.3-1) ...\n",
            "Selecting previously unselected package python3-pycryptodome.\n",
            "Preparing to unpack .../08-python3-pycryptodome_3.11.0+dfsg1-3ubuntu0.1_amd64.deb ...\n",
            "Unpacking python3-pycryptodome (3.11.0+dfsg1-3ubuntu0.1) ...\n",
            "Selecting previously unselected package python3-dnspython.\n",
            "Preparing to unpack .../09-python3-dnspython_2.1.0-1ubuntu1_all.deb ...\n",
            "Unpacking python3-dnspython (2.1.0-1ubuntu1) ...\n",
            "Selecting previously unselected package ieee-data.\n",
            "Preparing to unpack .../10-ieee-data_20210605.1_all.deb ...\n",
            "Unpacking ieee-data (20210605.1) ...\n",
            "Selecting previously unselected package python3-netaddr.\n",
            "Preparing to unpack .../11-python3-netaddr_0.8.0-2_all.deb ...\n",
            "Unpacking python3-netaddr (0.8.0-2) ...\n",
            "Selecting previously unselected package ansible.\n",
            "Preparing to unpack .../12-ansible_2.10.7+merged+base+2.10.8+dfsg-1_all.deb ...\n",
            "Unpacking ansible (2.10.7+merged+base+2.10.8+dfsg-1) ...\n",
            "Selecting previously unselected package python3-argcomplete.\n",
            "Preparing to unpack .../13-python3-argcomplete_1.8.1-1.5_all.deb ...\n",
            "Unpacking python3-argcomplete (1.8.1-1.5) ...\n",
            "Selecting previously unselected package python3-certifi.\n",
            "Preparing to unpack .../14-python3-certifi_2020.6.20-1_all.deb ...\n",
            "Unpacking python3-certifi (2020.6.20-1) ...\n",
            "Selecting previously unselected package python3-chardet.\n",
            "Preparing to unpack .../15-python3-chardet_4.0.0-1_all.deb ...\n",
            "Unpacking python3-chardet (4.0.0-1) ...\n",
            "Selecting previously unselected package python3-idna.\n",
            "Preparing to unpack .../16-python3-idna_3.3-1ubuntu0.1_all.deb ...\n",
            "Unpacking python3-idna (3.3-1ubuntu0.1) ...\n",
            "Selecting previously unselected package python3-jmespath.\n",
            "Preparing to unpack .../17-python3-jmespath_0.10.0-1_all.deb ...\n",
            "Unpacking python3-jmespath (0.10.0-1) ...\n",
            "Selecting previously unselected package python3-kerberos.\n",
            "Preparing to unpack .../18-python3-kerberos_1.1.14-3.1build5_amd64.deb ...\n",
            "Unpacking python3-kerberos (1.1.14-3.1build5) ...\n",
            "Selecting previously unselected package python3-lockfile.\n",
            "Preparing to unpack .../19-python3-lockfile_1%3a0.12.2-2.2_all.deb ...\n",
            "Unpacking python3-lockfile (1:0.12.2-2.2) ...\n",
            "Selecting previously unselected package python3-simplejson.\n",
            "Preparing to unpack .../20-python3-simplejson_3.17.6-1build1_amd64.deb ...\n",
            "Unpacking python3-simplejson (3.17.6-1build1) ...\n",
            "Selecting previously unselected package python3-urllib3.\n",
            "Preparing to unpack .../21-python3-urllib3_1.26.5-1~exp1ubuntu0.2_all.deb ...\n",
            "Unpacking python3-urllib3 (1.26.5-1~exp1ubuntu0.2) ...\n",
            "Selecting previously unselected package python3-requests.\n",
            "Preparing to unpack .../22-python3-requests_2.25.1+dfsg-2ubuntu0.1_all.deb ...\n",
            "Unpacking python3-requests (2.25.1+dfsg-2ubuntu0.1) ...\n",
            "Selecting previously unselected package python3-libcloud.\n",
            "Preparing to unpack .../23-python3-libcloud_3.2.0-2_all.deb ...\n",
            "Unpacking python3-libcloud (3.2.0-2) ...\n",
            "Selecting previously unselected package python3-ntlm-auth.\n",
            "Preparing to unpack .../24-python3-ntlm-auth_1.4.0-1_all.deb ...\n",
            "Unpacking python3-ntlm-auth (1.4.0-1) ...\n",
            "Selecting previously unselected package python3-requests-kerberos.\n",
            "Preparing to unpack .../25-python3-requests-kerberos_0.12.0-2_all.deb ...\n",
            "Unpacking python3-requests-kerberos (0.12.0-2) ...\n",
            "Selecting previously unselected package python3-requests-ntlm.\n",
            "Preparing to unpack .../26-python3-requests-ntlm_1.1.0-1.1_all.deb ...\n",
            "Unpacking python3-requests-ntlm (1.1.0-1.1) ...\n",
            "Selecting previously unselected package python3-requests-toolbelt.\n",
            "Preparing to unpack .../27-python3-requests-toolbelt_0.9.1-1_all.deb ...\n",
            "Unpacking python3-requests-toolbelt (0.9.1-1) ...\n",
            "Selecting previously unselected package python3-selinux.\n",
            "Preparing to unpack .../28-python3-selinux_3.3-1build2_amd64.deb ...\n",
            "Unpacking python3-selinux (3.3-1build2) ...\n",
            "Selecting previously unselected package python3-xmltodict.\n",
            "Preparing to unpack .../29-python3-xmltodict_0.12.0-2_all.deb ...\n",
            "Unpacking python3-xmltodict (0.12.0-2) ...\n",
            "Selecting previously unselected package python3-winrm.\n",
            "Preparing to unpack .../30-python3-winrm_0.3.0-2_all.deb ...\n",
            "Unpacking python3-winrm (0.3.0-2) ...\n",
            "Setting up python3-lockfile (1:0.12.2-2.2) ...\n",
            "Setting up python3-ntlm-auth (1.4.0-1) ...\n",
            "Setting up python3-pycryptodome (3.11.0+dfsg1-3ubuntu0.1) ...\n",
            "Setting up python3-kerberos (1.1.14-3.1build5) ...\n",
            "Setting up python3-yaml (5.4.1-1ubuntu1) ...\n",
            "Setting up python3-markupsafe (2.0.1-2build1) ...\n",
            "Setting up python3-tz (2022.1-1ubuntu0.22.04.1) ...\n",
            "Setting up python-babel-localedata (2.8.0+dfsg.1-7) ...\n",
            "Setting up python3-simplejson (3.17.6-1build1) ...\n",
            "Setting up python3-xmltodict (0.12.0-2) ...\n",
            "Setting up python3-packaging (21.3-1) ...\n",
            "Setting up python3-chardet (4.0.0-1) ...\n",
            "Setting up python3-certifi (2020.6.20-1) ...\n",
            "Setting up python3-jmespath (0.10.0-1) ...\n",
            "Setting up python3-idna (3.3-1ubuntu0.1) ...\n",
            "Setting up python3-urllib3 (1.26.5-1~exp1ubuntu0.2) ...\n",
            "Setting up ieee-data (20210605.1) ...\n",
            "Setting up python3-selinux (3.3-1build2) ...\n",
            "Setting up netbase (6.3) ...\n",
            "Setting up python3-argcomplete (1.8.1-1.5) ...\n",
            "Setting up python3-babel (2.8.0+dfsg.1-7) ...\n",
            "update-alternatives: using /usr/bin/pybabel-python3 to provide /usr/bin/pybabel (pybabel) in auto mode\n",
            "Setting up python3-jinja2 (3.0.3-1ubuntu0.3) ...\n",
            "Setting up python3-requests (2.25.1+dfsg-2ubuntu0.1) ...\n",
            "Setting up python3-requests-kerberos (0.12.0-2) ...\n",
            "Setting up python3-netaddr (0.8.0-2) ...\n",
            "Setting up python3-dnspython (2.1.0-1ubuntu1) ...\n",
            "Setting up ansible (2.10.7+merged+base+2.10.8+dfsg-1) ...\n",
            "Setting up python3-requests-ntlm (1.1.0-1.1) ...\n",
            "Setting up python3-requests-toolbelt (0.9.1-1) ...\n",
            "Setting up python3-libcloud (3.2.0-2) ...\n",
            "Setting up python3-winrm (0.3.0-2) ...\n",
            "Processing triggers for man-db (2.10.2-1) ...\n",
            "ansible 2.10.8\n",
            "  config file = None\n",
            "  configured module search path = ['/root/.ansible/plugins/modules', '/usr/share/ansible/plugins/modules']\n",
            "  ansible python module location = /usr/lib/python3/dist-packages/ansible\n",
            "  executable location = /usr/bin/ansible\n",
            "  python version = 3.11.11 (main, Dec  4 2024, 08:55:07) [GCC 11.4.0]\n"
          ]
        }
      ]
    },
    {
      "cell_type": "code",
      "source": [
        "!apt-get update && apt-get install -y software-properties-common\n",
        "!apt-add-repository --yes --update ppa:ansible/ansible"
      ],
      "metadata": {
        "colab": {
          "base_uri": "https://localhost:8080/"
        },
        "id": "AqArM5wOhOMQ",
        "outputId": "f74f4e30-53fa-49b7-ae6f-e1eff0bec781"
      },
      "execution_count": 94,
      "outputs": [
        {
          "output_type": "stream",
          "name": "stdout",
          "text": [
            "Get:1 https://developer.download.nvidia.com/compute/cuda/repos/ubuntu2204/x86_64  InRelease [1,581 B]\n",
            "Get:2 https://developer.download.nvidia.com/compute/cuda/repos/ubuntu2204/x86_64  Packages [1,319 kB]\n",
            "Get:3 https://cloud.r-project.org/bin/linux/ubuntu jammy-cran40/ InRelease [3,632 B]\n",
            "Get:4 http://security.ubuntu.com/ubuntu jammy-security InRelease [129 kB]\n",
            "Hit:5 http://archive.ubuntu.com/ubuntu jammy InRelease\n",
            "Get:6 http://archive.ubuntu.com/ubuntu jammy-updates InRelease [128 kB]\n",
            "Get:7 https://r2u.stat.illinois.edu/ubuntu jammy InRelease [6,555 B]\n",
            "Hit:8 https://ppa.launchpadcontent.net/deadsnakes/ppa/ubuntu jammy InRelease\n",
            "Get:9 https://r2u.stat.illinois.edu/ubuntu jammy/main amd64 Packages [2,662 kB]\n",
            "Hit:10 https://ppa.launchpadcontent.net/graphics-drivers/ppa/ubuntu jammy InRelease\n",
            "Get:11 http://security.ubuntu.com/ubuntu jammy-security/main amd64 Packages [2,639 kB]\n",
            "Hit:12 https://ppa.launchpadcontent.net/ubuntugis/ppa/ubuntu jammy InRelease\n",
            "Get:13 http://archive.ubuntu.com/ubuntu jammy-backports InRelease [127 kB]\n",
            "Get:14 http://archive.ubuntu.com/ubuntu jammy-updates/universe amd64 Packages [1,532 kB]\n",
            "Get:15 http://security.ubuntu.com/ubuntu jammy-security/universe amd64 Packages [1,235 kB]\n",
            "Get:16 http://security.ubuntu.com/ubuntu jammy-security/restricted amd64 Packages [3,664 kB]\n",
            "Get:17 http://archive.ubuntu.com/ubuntu jammy-updates/restricted amd64 Packages [3,813 kB]\n",
            "Get:18 https://r2u.stat.illinois.edu/ubuntu jammy/main all Packages [8,705 kB]\n",
            "Get:19 http://archive.ubuntu.com/ubuntu jammy-updates/main amd64 Packages [2,950 kB]\n",
            "Fetched 28.9 MB in 4s (6,505 kB/s)\n",
            "Reading package lists... Done\n",
            "W: Skipping acquire of configured file 'main/source/Sources' as repository 'https://r2u.stat.illinois.edu/ubuntu jammy InRelease' does not seem to provide it (sources.list entry misspelt?)\n",
            "Reading package lists... Done\n",
            "Building dependency tree... Done\n",
            "Reading state information... Done\n",
            "software-properties-common is already the newest version (0.99.22.9).\n",
            "0 upgraded, 0 newly installed, 0 to remove and 33 not upgraded.\n",
            "Repository: 'deb https://ppa.launchpadcontent.net/ansible/ansible/ubuntu/ jammy main'\n",
            "Description:\n",
            "Ansible is a radically simple IT automation platform that makes your applications and systems easier to deploy. Avoid writing scripts or custom code to deploy and update your applications— automate in a language that approaches plain English, using SSH, with no agents to install on remote systems.\n",
            "\n",
            "http://ansible.com/\n",
            "\n",
            "If you face any issues while installing Ansible PPA, file an issue here:\n",
            "https://github.com/ansible-community/ppa/issues\n",
            "More info: https://launchpad.net/~ansible/+archive/ubuntu/ansible\n",
            "Adding repository.\n",
            "Adding deb entry to /etc/apt/sources.list.d/ansible-ubuntu-ansible-jammy.list\n",
            "Adding disabled deb-src entry to /etc/apt/sources.list.d/ansible-ubuntu-ansible-jammy.list\n",
            "Adding key to /etc/apt/trusted.gpg.d/ansible-ubuntu-ansible.gpg with fingerprint 6125E2A8C77F2818FB7BD15B93C4A3FD7BB9C367\n",
            "Hit:1 https://cloud.r-project.org/bin/linux/ubuntu jammy-cran40/ InRelease\n",
            "Hit:2 https://developer.download.nvidia.com/compute/cuda/repos/ubuntu2204/x86_64  InRelease\n",
            "Hit:3 http://archive.ubuntu.com/ubuntu jammy InRelease\n",
            "Hit:4 http://security.ubuntu.com/ubuntu jammy-security InRelease\n",
            "Hit:5 http://archive.ubuntu.com/ubuntu jammy-updates InRelease\n",
            "Hit:6 http://archive.ubuntu.com/ubuntu jammy-backports InRelease\n",
            "Hit:7 https://r2u.stat.illinois.edu/ubuntu jammy InRelease\n",
            "Get:8 https://ppa.launchpadcontent.net/ansible/ansible/ubuntu jammy InRelease [18.0 kB]\n",
            "Hit:9 https://ppa.launchpadcontent.net/deadsnakes/ppa/ubuntu jammy InRelease\n",
            "Hit:10 https://ppa.launchpadcontent.net/graphics-drivers/ppa/ubuntu jammy InRelease\n",
            "Hit:11 https://ppa.launchpadcontent.net/ubuntugis/ppa/ubuntu jammy InRelease\n",
            "Get:12 https://ppa.launchpadcontent.net/ansible/ansible/ubuntu jammy/main amd64 Packages [1,076 B]\n",
            "Fetched 19.1 kB in 2s (8,472 B/s)\n",
            "Reading package lists... Done\n",
            "W: Skipping acquire of configured file 'main/source/Sources' as repository 'https://r2u.stat.illinois.edu/ubuntu jammy InRelease' does not seem to provide it (sources.list entry misspelt?)\n"
          ]
        }
      ]
    },
    {
      "cell_type": "code",
      "source": [
        "%%writefile hosts\n",
        "[local]\n",
        "localhost ansible_connection=local"
      ],
      "metadata": {
        "colab": {
          "base_uri": "https://localhost:8080/"
        },
        "id": "DIo-8cJogt_9",
        "outputId": "d64ce86d-c602-444c-939c-863f6600ce07"
      },
      "execution_count": 95,
      "outputs": [
        {
          "output_type": "stream",
          "name": "stdout",
          "text": [
            "Writing hosts\n"
          ]
        }
      ]
    },
    {
      "cell_type": "code",
      "source": [
        "%%writefile playbook.yml\n",
        "- name: Configuração Inicial do Servidor\n",
        "  hosts: local\n",
        "  tasks:\n",
        "    - name: Instalar o Apache\n",
        "      apt:\n",
        "        name: apache2\n",
        "        state: present\n",
        "    - name: Iniciar o Serviço\n",
        "      service:\n",
        "        name: apache2\n",
        "        state: started"
      ],
      "metadata": {
        "colab": {
          "base_uri": "https://localhost:8080/"
        },
        "id": "JIMN36gkfnJ7",
        "outputId": "df0c7f1a-ce6a-45e0-c15d-2b66ea1c7719"
      },
      "execution_count": 96,
      "outputs": [
        {
          "output_type": "stream",
          "name": "stdout",
          "text": [
            "Writing playbook.yml\n"
          ]
        }
      ]
    },
    {
      "cell_type": "code",
      "source": [
        "!ansible-playbook -i hosts playbook.yml"
      ],
      "metadata": {
        "colab": {
          "base_uri": "https://localhost:8080/"
        },
        "id": "i2qTCQNJhdef",
        "outputId": "65330fbf-b91f-4c5a-93a4-fac158b3bdf6"
      },
      "execution_count": 97,
      "outputs": [
        {
          "output_type": "stream",
          "name": "stdout",
          "text": [
            "\n",
            "PLAY [Configuração Inicial do Servidor] ****************************************\n",
            "\n",
            "TASK [Gathering Facts] *********************************************************\n",
            "\u001b[0;32mok: [localhost]\u001b[0m\n",
            "\n",
            "TASK [Instalar o Apache] *******************************************************\n",
            "\u001b[0;33mchanged: [localhost]\u001b[0m\n",
            "\n",
            "TASK [Iniciar o Serviço] *******************************************************\n",
            "\u001b[1;35m[WARNING]: Skipping plugin (/usr/lib/python3/dist-\u001b[0m\n",
            "\u001b[1;35mpackages/ansible/plugins/filter/core.py) as it seems to be invalid: cannot\u001b[0m\n",
            "\u001b[1;35mimport name 'environmentfilter' from 'jinja2.filters'\u001b[0m\n",
            "\u001b[1;35m(/usr/local/lib/python3.11/dist-packages/jinja2/filters.py)\u001b[0m\n",
            "\u001b[1;35m[WARNING]: Skipping plugin (/usr/lib/python3/dist-\u001b[0m\n",
            "\u001b[1;35mpackages/ansible/plugins/filter/mathstuff.py) as it seems to be invalid: cannot\u001b[0m\n",
            "\u001b[1;35mimport name 'environmentfilter' from 'jinja2.filters'\u001b[0m\n",
            "\u001b[1;35m(/usr/local/lib/python3.11/dist-packages/jinja2/filters.py)\u001b[0m\n",
            "\u001b[0;33mchanged: [localhost]\u001b[0m\n",
            "\n",
            "PLAY RECAP *********************************************************************\n",
            "\u001b[0;33mlocalhost\u001b[0m                  : \u001b[0;32mok=3   \u001b[0m \u001b[0;33mchanged=2   \u001b[0m unreachable=0    failed=0    skipped=0    rescued=0    ignored=0   \n",
            "\n"
          ]
        }
      ]
    },
    {
      "cell_type": "code",
      "source": [
        "!service apache2 status"
      ],
      "metadata": {
        "colab": {
          "base_uri": "https://localhost:8080/"
        },
        "id": "u8Yk3t-ghhaR",
        "outputId": "abb53cc9-2fc6-4c02-d5db-55746acec6d2"
      },
      "execution_count": 98,
      "outputs": [
        {
          "output_type": "stream",
          "name": "stdout",
          "text": [
            " * apache2 is running\n"
          ]
        }
      ]
    },
    {
      "cell_type": "markdown",
      "source": [
        "#Atividade 4"
      ],
      "metadata": {
        "id": "5N3Mr05chidA"
      }
    },
    {
      "cell_type": "code",
      "source": [
        "%%writefile db-playbook.yml\n",
        "---\n",
        "- name: Instalar e configurar o MySQL\n",
        "  hosts: local\n",
        "  become: yes\n",
        "  tasks:\n",
        "    - name: Atualizar o cache do apt\n",
        "      apt:\n",
        "        update_cache: yes\n",
        "\n",
        "    - name: Instalar o MySQL Server\n",
        "      apt:\n",
        "        name: mysql-server\n",
        "        state: present\n",
        "\n",
        "    - name: Iniciar e habilitar o serviço do MySQL\n",
        "      service:\n",
        "        name: mysql\n",
        "        state: started\n",
        "        enabled: yes"
      ],
      "metadata": {
        "colab": {
          "base_uri": "https://localhost:8080/"
        },
        "id": "X21bowQwhlEu",
        "outputId": "cb4cae0f-9056-4f4f-e183-e1120d490438"
      },
      "execution_count": 99,
      "outputs": [
        {
          "output_type": "stream",
          "name": "stdout",
          "text": [
            "Writing db-playbook.yml\n"
          ]
        }
      ]
    },
    {
      "cell_type": "code",
      "source": [
        "!ansible-playbook -i hosts db-playbook.yml"
      ],
      "metadata": {
        "colab": {
          "base_uri": "https://localhost:8080/"
        },
        "id": "rHiwdTxpiuUh",
        "outputId": "d8acdf5c-fe62-4a35-a6eb-fd9f7e2c3b15"
      },
      "execution_count": 100,
      "outputs": [
        {
          "output_type": "stream",
          "name": "stdout",
          "text": [
            "\n",
            "PLAY [Instalar e configurar o MySQL] *******************************************\n",
            "\n",
            "TASK [Gathering Facts] *********************************************************\n",
            "\u001b[0;32mok: [localhost]\u001b[0m\n",
            "\n",
            "TASK [Atualizar o cache do apt] ************************************************\n",
            "\u001b[0;32mok: [localhost]\u001b[0m\n",
            "\n",
            "TASK [Instalar o MySQL Server] *************************************************\n",
            "\u001b[0;33mchanged: [localhost]\u001b[0m\n",
            "\n",
            "TASK [Iniciar e habilitar o serviço do MySQL] **********************************\n",
            "\u001b[1;35m[WARNING]: Skipping plugin (/usr/lib/python3/dist-\u001b[0m\n",
            "\u001b[1;35mpackages/ansible/plugins/filter/core.py) as it seems to be invalid: cannot\u001b[0m\n",
            "\u001b[1;35mimport name 'environmentfilter' from 'jinja2.filters'\u001b[0m\n",
            "\u001b[1;35m(/usr/local/lib/python3.11/dist-packages/jinja2/filters.py)\u001b[0m\n",
            "\u001b[1;35m[WARNING]: Skipping plugin (/usr/lib/python3/dist-\u001b[0m\n",
            "\u001b[1;35mpackages/ansible/plugins/filter/mathstuff.py) as it seems to be invalid: cannot\u001b[0m\n",
            "\u001b[1;35mimport name 'environmentfilter' from 'jinja2.filters'\u001b[0m\n",
            "\u001b[1;35m(/usr/local/lib/python3.11/dist-packages/jinja2/filters.py)\u001b[0m\n",
            "\u001b[0;32mok: [localhost]\u001b[0m\n",
            "\n",
            "PLAY RECAP *********************************************************************\n",
            "\u001b[0;33mlocalhost\u001b[0m                  : \u001b[0;32mok=4   \u001b[0m \u001b[0;33mchanged=1   \u001b[0m unreachable=0    failed=0    skipped=0    rescued=0    ignored=0   \n",
            "\n"
          ]
        }
      ]
    },
    {
      "cell_type": "markdown",
      "source": [
        "#Atividade 5"
      ],
      "metadata": {
        "id": "kEOUwTwtk8PS"
      }
    },
    {
      "cell_type": "code",
      "source": [
        "%%writefile infra.tf\n",
        "resource \"google_compute_instance\" \"vm_petadota\" {\n",
        "  name         = \"vm-petadota\"\n",
        "  machine_type = \"e2-medium\"\n",
        "  zone         = \"us-central1-a\"\n",
        "\n",
        "  boot_disk {\n",
        "    initialize_params {\n",
        "      image = \"debian-cloud/debian-11\"\n",
        "    }\n",
        "  }\n",
        "\n",
        "  network_interface {\n",
        "    network = \"default\"\n",
        "    access_config {}\n",
        "  }\n",
        "}\n",
        "\n",
        "!terraform init\n",
        "!terraform apply -auto-approve\n",
        "\n",
        "%%writefile db-playbook.yml\n",
        "---\n",
        "- name: Instalar e configurar o MySQL\n",
        "  hosts: local\n",
        "  become: yes\n",
        "  tasks:\n",
        "    - name: Atualizar o cache do apt\n",
        "      apt:\n",
        "        update_cache: yes\n",
        "\n",
        "    - name: Instalar o MySQL Server\n",
        "      apt:\n",
        "        name: mysql-server\n",
        "        state: present\n",
        "\n",
        "    - name: Iniciar e habilitar o serviço do MySQL\n",
        "      service:\n",
        "        name: mysql\n",
        "        state: started\n",
        "        enabled: yes\n",
        "\n",
        "    - name: Criar um banco de dados petadota_db\n",
        "      mysql_db:\n",
        "        name: petadota_db\n",
        "        state: present\n",
        "\n",
        "    - name: Criar um usuário petadmin\n",
        "      mysql_user:\n",
        "        name: petadmin\n",
        "        password: \"strongpassword\"\n",
        "        priv: \"*.*:ALL\"\n",
        "        state: present\n",
        "\n",
        "!ansible-playbook -i hosts db-playbook.yml\n"
      ],
      "metadata": {
        "colab": {
          "base_uri": "https://localhost:8080/"
        },
        "id": "aWSNgWXBk-bw",
        "outputId": "3aed92be-aec4-4627-ace1-dd929908ac11"
      },
      "execution_count": 102,
      "outputs": [
        {
          "output_type": "stream",
          "name": "stdout",
          "text": [
            "Overwriting infra.tf\n"
          ]
        }
      ]
    },
    {
      "cell_type": "markdown",
      "source": [
        "#GitHub"
      ],
      "metadata": {
        "id": "PlgrL_tZnJTl"
      }
    },
    {
      "cell_type": "code",
      "source": [
        "arquivo enviado localmente"
      ],
      "metadata": {
        "id": "AcpiHRl-NxDF"
      },
      "execution_count": 103,
      "outputs": []
    }
  ]
}